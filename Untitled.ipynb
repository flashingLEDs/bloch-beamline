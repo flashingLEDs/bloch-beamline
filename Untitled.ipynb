{
 "cells": [
  {
   "cell_type": "code",
   "execution_count": 5,
   "metadata": {},
   "outputs": [],
   "source": [
    "from BLOCH_beamline import *\n",
    "#******************************\n",
    "def calculateFEAcceptance(hgap,vgap):\n",
    "#******************************\n",
    "\tsigma = 0.15e-3    # Beam sigma in radians\n",
    "\tM1_distance = 7.5   #distance in meters from the source\n",
    "\thgap_offset = 0\n",
    "\tvgap_offset = 0\n",
    "\thgap_true = hgap - hgap_offset\n",
    "\tvgap_true = vgap - vgap_offset\n",
    "\th_acceptance= (hgap_true/1000) / ( 2*M1_distance*tan(sigma/2))\n",
    "\tv_acceptance= (vgap_true/1000) / ( 2*M1_distance*tan(sigma/2))\n",
    "\tprint(\"Mono horizontal gap size of {0} is {1} after accounting for offset.\\nThis means an acceptance of {2:1.3f} sigma\".format(hgap,hgap_true,h_acceptance))\n",
    "\tprint(\"Mono vertical gap size of {0} is {1} after accounting for offset.\\nThis means an acceptance of {2:1.3f} sigma\".format(vgap,vgap_true,v_acceptance))\n"
   ]
  },
  {
   "cell_type": "code",
   "execution_count": 4,
   "metadata": {},
   "outputs": [
    {
     "name": "stdout",
     "output_type": "stream",
     "text": [
      "Mono horizontal gap size of 15 is 12 after accounting for offset.\n",
      "This means an acceptance of 5.714 sigma\n",
      "Mono vertical gap size of 15 is 11.5 after accounting for offset.\n",
      "This means an acceptance of 5.476 sigma\n"
     ]
    }
   ],
   "source": [
    "calculateMonoAcceptance(15,15)"
   ]
  },
  {
   "cell_type": "code",
   "execution_count": 6,
   "metadata": {},
   "outputs": [
    {
     "name": "stdout",
     "output_type": "stream",
     "text": [
      "Mono horizontal gap size of 3.5 is 3.5 after accounting for offset.\n",
      "This means an acceptance of 3.111 sigma\n",
      "Mono vertical gap size of 3.5 is 3.5 after accounting for offset.\n",
      "This means an acceptance of 3.111 sigma\n"
     ]
    }
   ],
   "source": [
    "calculateFEAcceptance(3.5,3.5)"
   ]
  },
  {
   "cell_type": "code",
   "execution_count": null,
   "metadata": {
    "collapsed": true
   },
   "outputs": [],
   "source": []
  }
 ],
 "metadata": {
  "kernelspec": {
   "display_name": "Python [default]",
   "language": "python",
   "name": "python3"
  },
  "language_info": {
   "codemirror_mode": {
    "name": "ipython",
    "version": 3
   },
   "file_extension": ".py",
   "mimetype": "text/x-python",
   "name": "python",
   "nbconvert_exporter": "python",
   "pygments_lexer": "ipython3",
   "version": "3.6.3"
  },
  "toc": {
   "base_numbering": 1,
   "nav_menu": {},
   "number_sections": true,
   "sideBar": true,
   "skip_h1_title": false,
   "title_cell": "Table of Contents",
   "title_sidebar": "Contents",
   "toc_cell": false,
   "toc_position": {},
   "toc_section_display": true,
   "toc_window_display": false
  }
 },
 "nbformat": 4,
 "nbformat_minor": 2
}

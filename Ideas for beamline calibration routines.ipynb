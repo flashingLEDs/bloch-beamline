{
 "cells": [
  {
   "cell_type": "markdown",
   "metadata": {},
   "source": [
    "# Routine automated diagnostic measurement sequence:\n"
   ]
  },
  {
   "cell_type": "markdown",
   "metadata": {},
   "source": [
    "### Beam to the M4 diagnostick\n",
    "With normal beamline settings, sweep the diagnostick. Look for intensity on the two alba channels. Mesh and diode both reading, at the same positions as usual?"
   ]
  },
  {
   "cell_type": "markdown",
   "metadata": {},
   "source": [
    "### FE baffle offset check\n",
    "Sweep each of the front end movable masks while watching the current. You'll get four curves of intensity vs displacement. Check that these curves look normal"
   ]
  },
  {
   "cell_type": "markdown",
   "metadata": {},
   "source": [
    "### Scan M1 lateral while measuring M1 drain current"
   ]
  },
  {
   "cell_type": "markdown",
   "metadata": {},
   "source": [
    "### Mono baffle offset and alignment\n",
    "\n",
    "Sweep the mono baffle hgap and vgap while recording intensity. Should find gap offsets (where intensity drops out) of v_gap_offset = 3, h_gap_offset = 2.8.\n",
    "\n",
    "With 50mm gap, hv=80, reduce mono baffle gaps to 0.3mm. Scan h then v offsets from -6..6 step 0.1. (i.e. take a vertical then horizontal cut through the donut). Verify center of the beam and hence offsets."
   ]
  },
  {
   "cell_type": "markdown",
   "metadata": {},
   "source": [
    "### Oxygen K-edge for energy calibration\n",
    "Go to EPU gap 19mm and sweep mono energy from 500-600eV. Measure on the mesh. There is an Oxygen K-edge here - check that it comes at  the same energy as usual"
   ]
  },
  {
   "cell_type": "markdown",
   "metadata": {},
   "source": [
    "### Exit slit offsets\n",
    "\n",
    "Check exit slit (h,v) gap offsets by sweeping the gaps while measuring intensity"
   ]
  },
  {
   "cell_type": "markdown",
   "metadata": {},
   "source": [
    "### M1 pitch sweep for 3 different photon energies"
   ]
  },
  {
   "cell_type": "markdown",
   "metadata": {},
   "source": [
    "### undulator spectrum, with two different acceptances\n",
    "Go to gap 30 with a particular acceptance, take an energy scan over the first and third harmonics (about 20 to 80eV). peak shapes and positions should be identical to previous values"
   ]
  }
 ],
 "metadata": {
  "kernelspec": {
   "display_name": "Python [default]",
   "language": "python",
   "name": "python3"
  },
  "language_info": {
   "codemirror_mode": {
    "name": "ipython",
    "version": 3
   },
   "file_extension": ".py",
   "mimetype": "text/x-python",
   "name": "python",
   "nbconvert_exporter": "python",
   "pygments_lexer": "ipython3",
   "version": "3.6.3"
  }
 },
 "nbformat": 4,
 "nbformat_minor": 2
}

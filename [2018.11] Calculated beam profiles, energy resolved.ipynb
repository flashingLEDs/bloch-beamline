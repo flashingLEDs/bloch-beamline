{
 "cells": [
  {
   "cell_type": "code",
   "execution_count": 1,
   "metadata": {},
   "outputs": [
    {
     "name": "stdout",
     "output_type": "stream",
     "text": [
      "---- BLOCH beamline ----\n",
      "\tLast updated 02.13.2018 \n",
      "\n",
      "\tLatest change: Simple resolution calculators\n",
      "\n"
     ]
    }
   ],
   "source": [
    "from pylab import *\n",
    "from pathlib import Path   # Use the path library to avoid problems with windows vs mac/linux slashes in paths\n",
    "from BLOCH_beamline import *\n",
    "import matplotlib.patches as patches\n",
    "from ipywidgets import interactive\n",
    "from matplotlib.widgets import Slider\n",
    "from IPython.display import display\n",
    "from ipywidgets import *\n",
    "\n",
    "%matplotlib inline\n",
    "font = {'size'   : 14}\n",
    "matplotlib.rc('font', **font)"
   ]
  },
  {
   "cell_type": "markdown",
   "metadata": {},
   "source": [
    "***\n",
    "## Calculation details\n",
    "\n",
    "| Parameter | Value |\n",
    "|-|-|\n",
    "|Program | SPECTRA 10.1|\n",
    "|Mode | Near field>spatial dependence>spatial flux density> xy mesh|\n",
    "|Field data|.txt|\n",
    "|Parameter file |84.prm\\*|\n",
    "\n",
    "\\*current reduced to 200mA\n"
   ]
  },
  {
   "cell_type": "markdown",
   "metadata": {},
   "source": [
    "***\n",
    "## Local functions"
   ]
  },
  {
   "cell_type": "code",
   "execution_count": 7,
   "metadata": {
    "collapsed": true
   },
   "outputs": [],
   "source": [
    "#*****************************************************\n",
    "def buildEnergySlice(calculationMatrix,fluxCurve,minEnergy,maxEnergy,energyStep,sliceEnergy):\n",
    "#*****************************************************\n",
    "    calculationIndex=int((sliceEnergy - minEnergy)/energyStep)\n",
    "    \n",
    "    fig=plt.figure(figsize=(15,8))\n",
    "    plt.subplot(2,1,1)\n",
    "    calculationImage=calculationMatrix[:,:,calculationIndex]\n",
    "    plt.imshow(calculationImage,origin='lower',aspect='1',cmap='gray_r',extent=[-8,8,8,-8])\n",
    "    aperture = patches.RegularPolygon((0,0), numVertices=4, orientation = math.radians(45), color='tab:orange',radius = sqrt(2)*(2.1/2),linestyle='--',fill=False)\n",
    "    plt.gca().add_patch(aperture)\n",
    "    plt.xlabel('Horizontal (mm)')\n",
    "    plt.ylabel('Vertical (mm)')\n",
    "    \n",
    "    plt.subplot(2,1,2)\n",
    "    plt.plot(fluxCurve['mono_energy'],fluxCurve['flux'])\n",
    "    plt.plot([sliceEnergy,sliceEnergy],[min(fluxCurve['flux']),max(fluxCurve['flux'])])\n",
    "    fundamental = 11.41\n",
    "    plt.plot([fundamental,fundamental],[min(fluxCurve['flux']),max(fluxCurve['flux'])],'--',color='tab:green')\n",
    "    plt.plot([fundamental*2,fundamental*2],[min(fluxCurve['flux']),max(fluxCurve['flux'])],'--',color='tab:green')\n",
    "    plt.plot([fundamental*2.72,fundamental*2.72],[min(fluxCurve['flux']),max(fluxCurve['flux'])],'--',color='tab:green')\n",
    "    plt.plot([fundamental*3,fundamental*3],[min(fluxCurve['flux']),max(fluxCurve['flux'])],'--',color='tab:green')\n",
    "    plt.xlabel('Energy (eV)')\n",
    "    plt.ylabel('Flux')\n",
    "    plt.xlim([minEnergy,maxEnergy])\n",
    "    \n",
    "    plt.tight_layout()\n",
    "    \n",
    "#*****************************************************\n",
    "def ShowImage(calculationMatrix,fluxCurve,minEnergy,maxEnergy,energyStep):\n",
    "#*****************************************************   \n",
    "    sliceNumberSlider=widgets.FloatSlider(\n",
    "        value=minEnergy,\n",
    "        min=minEnergy,\n",
    "        max=maxEnergy,\n",
    "        step=energyStep,\n",
    "        description='Energy:',\n",
    "        continuous_update=False,\n",
    "        layout=Layout(width='800px')\n",
    "    )    \n",
    "           \n",
    "    w = interactive(\n",
    "        buildEnergySlice,\n",
    "        calculationMatrix=fixed(calculationMatrix),\n",
    "        fluxCurve=fixed(fluxCurve),\n",
    "        minEnergy=fixed(minEnergy),\n",
    "        maxEnergy=fixed(maxEnergy),\n",
    "        energyStep=fixed(energyStep),\n",
    "        sliceEnergy=sliceNumberSlider\n",
    "        \n",
    "    )\n",
    "   \n",
    "    # prevent flicker as the cell size goes to zero when redrawing\n",
    "    output = w.children[-1]\n",
    "    output.layout.height = '500px'\n",
    "    return w "
   ]
  },
  {
   "cell_type": "markdown",
   "metadata": {},
   "source": [
    "***\n",
    "## Load calculation results:"
   ]
  },
  {
   "cell_type": "code",
   "execution_count": 3,
   "metadata": {
    "collapsed": true
   },
   "outputs": [],
   "source": [
    "calculation_folder = Path('SPECTRA_calculations/horiz_20mm_10_40_step0.1')\n",
    "\n",
    "fluxCurve = loadSPECTRACalc(calculation_folder/'flux_0.15mrad.dc0')\n",
    "\n",
    "numberOfImages = 301\n",
    "imageSet=range(1,numberOfImages) \n",
    "imageResolution = 100\n",
    "calculatedMatrix=np.zeros((imageResolution,imageResolution,numberOfImages))\n",
    "    \n",
    "for imgNumber in imageSet:\n",
    "    img,imgextent=loadSPECTRA_image(calculation_folder/\"horiz_20mm_10_40_step0-{0}.dta\".format(imgNumber)) \n",
    "    calculatedMatrix[:,:,imgNumber-1]=img[:,:]"
   ]
  },
  {
   "cell_type": "code",
   "execution_count": 9,
   "metadata": {},
   "outputs": [
    {
     "data": {
      "text/plain": [
       "11.366666666666667"
      ]
     },
     "execution_count": 9,
     "metadata": {},
     "output_type": "execute_result"
    }
   ],
   "source": [
    "34.1/3"
   ]
  },
  {
   "cell_type": "code",
   "execution_count": 8,
   "metadata": {
    "scrolled": false
   },
   "outputs": [
    {
     "data": {
      "application/vnd.jupyter.widget-view+json": {
       "model_id": "07f06917aa6f4946ad47756ea4ceaf54",
       "version_major": 2,
       "version_minor": 0
      },
      "text/plain": [
       "A Jupyter Widget"
      ]
     },
     "metadata": {},
     "output_type": "display_data"
    }
   ],
   "source": [
    "ShowImage(calculatedMatrix,fluxCurve,10,40,0.1)"
   ]
  },
  {
   "cell_type": "code",
   "execution_count": 12,
   "metadata": {
    "collapsed": true
   },
   "outputs": [],
   "source": [
    "calculation_folder = Path('SPECTRA_calculations/vert_20mm_')\n",
    "\n",
    "fluxCurve = loadSPECTRACalc(calculation_folder/'flux_0.15mrad.dc0')\n",
    "\n",
    "numberOfImages = 561\n",
    "imageSet=range(1,numberOfImages) \n",
    "imageResolution = 100\n",
    "calculatedMatrix=np.zeros((imageResolution,imageResolution,numberOfImages))\n",
    "    \n",
    "for imgNumber in imageSet:\n",
    "    img,imgextent=loadSPECTRA_image(calculation_folder/\"vert_20mm_{0}.dta\".format(imgNumber)) \n",
    "    calculatedMatrix[:,:,imgNumber-1]=img[:,:]"
   ]
  },
  {
   "cell_type": "code",
   "execution_count": 13,
   "metadata": {},
   "outputs": [
    {
     "data": {
      "application/vnd.jupyter.widget-view+json": {
       "model_id": "cded964a144c473495233ab567816b45",
       "version_major": 2,
       "version_minor": 0
      },
      "text/plain": [
       "A Jupyter Widget"
      ]
     },
     "metadata": {},
     "output_type": "display_data"
    }
   ],
   "source": [
    "\n",
    "fluxCurve = loadSPECTRACalc(calculation_folder/'flux_0.15mrad.dc0')\n",
    "ShowImage(calculatedMatrix,fluxCurve,19,75,0.1)"
   ]
  },
  {
   "cell_type": "code",
   "execution_count": 9,
   "metadata": {},
   "outputs": [
    {
     "data": {
      "text/plain": [
       "75.0"
      ]
     },
     "execution_count": 9,
     "metadata": {},
     "output_type": "execute_result"
    }
   ],
   "source": [
    "52.7+(223*0.1)"
   ]
  },
  {
   "cell_type": "code",
   "execution_count": null,
   "metadata": {
    "collapsed": true
   },
   "outputs": [],
   "source": []
  }
 ],
 "metadata": {
  "kernelspec": {
   "display_name": "Python [default]",
   "language": "python",
   "name": "python3"
  },
  "language_info": {
   "codemirror_mode": {
    "name": "ipython",
    "version": 3
   },
   "file_extension": ".py",
   "mimetype": "text/x-python",
   "name": "python",
   "nbconvert_exporter": "python",
   "pygments_lexer": "ipython3",
   "version": "3.6.3"
  },
  "toc": {
   "base_numbering": 1,
   "nav_menu": {},
   "number_sections": true,
   "sideBar": true,
   "skip_h1_title": false,
   "title_cell": "Table of Contents",
   "title_sidebar": "Contents",
   "toc_cell": false,
   "toc_position": {},
   "toc_section_display": true,
   "toc_window_display": false
  }
 },
 "nbformat": 4,
 "nbformat_minor": 2
}

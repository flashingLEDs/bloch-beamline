{
 "cells": [
  {
   "cell_type": "markdown",
   "metadata": {},
   "source": [
    "<img src=\"MAX-IV.png\" width=\"200px\"/>\n",
    "# bloch_beamline - A poorly named Python/Jupyter data control and analysis suite"
   ]
  },
  {
   "cell_type": "markdown",
   "metadata": {},
   "source": [
    "## Setup"
   ]
  },
  {
   "cell_type": "markdown",
   "metadata": {},
   "source": [
    "To use bloch_beamline scripts in a jupyter notebook, first import the library:"
   ]
  },
  {
   "cell_type": "code",
   "execution_count": 1,
   "metadata": {},
   "outputs": [
    {
     "name": "stdout",
     "output_type": "stream",
     "text": [
      "---- BLOCH beamline ----\n",
      "\tLast updated 02.13.2018 \n",
      "\n",
      "\tLatest change: Simple resolution calculators\n",
      "\n"
     ]
    }
   ],
   "source": [
    "from BLOCH_beamline import *\n",
    "\n",
    "%matplotlib inline\n",
    "font = {'size'   : 14}\n",
    "matplotlib.rc('font', **font)\n",
    "\n",
    "dataFolder = Path('Data/')"
   ]
  },
  {
   "cell_type": "markdown",
   "metadata": {},
   "source": [
    "**Optional:** define a path (relative to the notebook file) where you will be pulling data from. It will make for much less typing when telling functions where to get each data file. Using the path library rather than explicitly passing in the file path is a way to avoid problems with slash conventions (which would otherwise be forwardslash on Linux, double backslash on Windows). With Path, just always use forwardslash and it'll work on any OS\n",
    "\n",
    "**Optional:** Bump up the matplotlib default font size so you're not squinting all the time\n",
    "\n"
   ]
  },
  {
   "cell_type": "markdown",
   "metadata": {},
   "source": [
    "# MotorscanGUI HDF5 files"
   ]
  },
  {
   "cell_type": "markdown",
   "metadata": {},
   "source": [
    "Functions for exploring and loading HDF5 output files from motorscanGUI\n",
    "\n",
    "HDF5 files contain a number of *scans*. Each *scan* consists of a number of *datasets*\n",
    "\n",
    "For example, if you performed a sweep of the mono energy while recording the diode current and mirror temperature, that would be one *scan* containing two *datasets*."
   ]
  },
  {
   "cell_type": "markdown",
   "metadata": {},
   "source": [
    "## HDF5info(path)\n",
    "\n",
    "Given a path to an HDF5 file, print information about the scans it contains"
   ]
  },
  {
   "cell_type": "code",
   "execution_count": 5,
   "metadata": {},
   "outputs": [
    {
     "name": "stdout",
     "output_type": "stream",
     "text": [
      "\n",
      "Data/19.02.25.M1_vs_time3.h5 contains 18 scans:\n",
      "(I am stripping off the 'entry' part of their name)\n",
      "\n",
      "\n",
      "Scan index\t # datasets \t # points in first dataset\n",
      "----------------------------------------------------------\n",
      "444\t\t14\t\t101\n",
      "445\t\t14\t\t101\n",
      "446\t\t14\t\t101\n",
      "447\t\t14\t\t101\n",
      "448\t\t14\t\t101\n",
      "449\t\t14\t\t101\n",
      "450\t\t14\t\t101\n",
      "451\t\t14\t\t101\n",
      "452\t\t14\t\t101\n",
      "453\t\t14\t\t101\n",
      "454\t\t14\t\t101\n",
      "455\t\t14\t\t101\n",
      "456\t\t14\t\t101\n",
      "457\t\t14\t\t101\n",
      "458\t\t14\t\t101\n",
      "459\t\t14\t\t101\n",
      "460\t\t14\t\t101\n",
      "461\t\t14\t\t3\n"
     ]
    }
   ],
   "source": [
    "3"
   ]
  },
  {
   "cell_type": "markdown",
   "metadata": {},
   "source": [
    "## HDF5scaninfo(path,scanIndex):\n",
    "\n",
    "Given a path to an HDF5 file and the *number* of a scan, print the names of all datasets in that scan"
   ]
  },
  {
   "cell_type": "code",
   "execution_count": 6,
   "metadata": {
    "scrolled": true
   },
   "outputs": [
    {
     "name": "stdout",
     "output_type": "stream",
     "text": [
      "entry444 contains 14 datasets:\n",
      "\n",
      "\t B110AO01DIATCO01temperature\n",
      "\t B110AO01DIATCO02temperature\n",
      "\t EPU_R1_110_GAPposition\n",
      "\t EPU_R1_110_PHASEposition\n",
      "\t Pt_No\n",
      "\t b110a_ctl_em02_ch01\n",
      "\t b110a_ctl_em02_ch03\n",
      "\t b110a_ctl_em02_timer\n",
      "\t dt\n",
      "\t dummytimer_ct\n",
      "\t m1_pitch\n",
      "\t m1_pitchposition\n",
      "\t mono_energyposition\n",
      "\t pre_scan_snapshot\n"
     ]
    }
   ],
   "source": [
    "HDF5scaninfo(path=dataFolder/\"19.02.25.M1_vs_time3.h5\",scanIndex=444)"
   ]
  },
  {
   "cell_type": "markdown",
   "metadata": {},
   "source": [
    "## HDF5loadscan(path,scanIndex)\n",
    "\n",
    "Given a path to an HDF5 file and the *number* of a scan (assuming all scans are named \"entryX\"), load all datasets in that scan\n",
    "\n",
    "Return type: dictionary  "
   ]
  },
  {
   "cell_type": "code",
   "execution_count": 16,
   "metadata": {},
   "outputs": [
    {
     "name": "stdout",
     "output_type": "stream",
     "text": [
      "EPU gap for this scan was  18.99997751493345\n",
      "m1_pitch values:\n",
      "[-1899.42104909 -1899.23438309 -1897.75438843 -1896.56772603\n",
      " -1895.3143972  -1894.0977349  -1892.81107285 -1891.72107675\n",
      " -1890.39441483 -1889.22775233 -1888.04775654 -1886.86442742\n",
      " -1885.72109816 -1884.47443592 -1883.24110696 -1882.11777761\n",
      " -1880.86111539 -1879.63778639 -1878.47445716 -1877.26779475\n",
      " -1875.96446601 -1874.9144697  -1873.57114108 -1872.54447802\n",
      " -1871.28114911 -1870.01115356 -1868.73449135 -1867.65782844\n",
      " -1866.52449906 -1865.20783698 -1864.09117419 -1862.80451199\n",
      " -1861.77451557 -1860.33785388 -1859.18452453 -1858.05786176\n",
      " -1856.87786583 -1855.64453674 -1854.44120755 -1853.28454486\n",
      " -1852.07454901 -1850.8545532  -1849.7145571  -1848.59789425\n",
      " -1847.23789889 -1845.97790319 -1844.82457379 -1843.54457814\n",
      " -1842.42124862 -1841.18791947 -1840.02125676 -1838.87792729\n",
      " -1837.56793172 -1836.38460238 -1835.2412729  -1833.96794385\n",
      " -1832.83128101 -1831.62128507 -1830.42128909 -1829.19795985\n",
      " -1827.98129725 -1826.75796801 -1825.67130496 -1824.40130919\n",
      " -1823.2479797  -1822.11798345 -1820.76132129 -1819.62132506\n",
      " -1818.48799548 -1817.28466612 -1816.11466998 -1814.84134085\n",
      " -1813.61801154 -1812.48468193 -1811.32801906 -1810.08135648\n",
      " -1808.86136048 -1807.69803095 -1806.43136842 -1805.11137272\n",
      " -1804.00137634 -1802.87804666 -1801.69138385 -1800.41472132\n",
      " -1799.21805853 -1798.03472902 -1796.84473287 -1795.61807016\n",
      " -1794.42140735 -1793.19807795 -1792.06808158 -1790.89141869\n",
      " -1789.59808951 -1788.52142628 -1787.2447637  -1786.05143417\n",
      " -1784.82810474 -1783.67144176 -1782.51811209 -1781.22811619\n",
      " -1780.03811996]\n"
     ]
    }
   ],
   "source": [
    "scan = HDF5loadscan(path=dataFolder/\"19.02.25.M1_vs_time3.h5\",scanIndex=444)\n",
    "\n",
    "print(\"EPU gap for this scan was \",scan[\"EPU_R1_110_GAPposition\"][0])\n",
    "print(\"m1_pitch values:\")\n",
    "print(scan[\"m1_pitch\"])"
   ]
  },
  {
   "cell_type": "markdown",
   "metadata": {},
   "source": [
    "## HDF5getScanList(path) \n",
    "\n",
    "Given a path to an HDF5 file, return a list of all the scan names it contains. Similar to HDF5info() but more useful for scripted data processing."
   ]
  },
  {
   "cell_type": "code",
   "execution_count": 8,
   "metadata": {},
   "outputs": [
    {
     "data": {
      "text/plain": [
       "['444',\n",
       " '445',\n",
       " '446',\n",
       " '447',\n",
       " '448',\n",
       " '449',\n",
       " '450',\n",
       " '451',\n",
       " '452',\n",
       " '453',\n",
       " '454',\n",
       " '455',\n",
       " '456',\n",
       " '457',\n",
       " '458',\n",
       " '459',\n",
       " '460',\n",
       " '461']"
      ]
     },
     "execution_count": 8,
     "metadata": {},
     "output_type": "execute_result"
    }
   ],
   "source": [
    "scanList = HDF5getScanList(path=dataFolder/\"19.02.25.M1_vs_time3.h5\")\n",
    "scanList"
   ]
  },
  {
   "cell_type": "markdown",
   "metadata": {},
   "source": [
    "# Scripting MotorscanGUI sequences"
   ]
  },
  {
   "cell_type": "code",
   "execution_count": null,
   "metadata": {
    "collapsed": true
   },
   "outputs": [],
   "source": []
  },
  {
   "cell_type": "markdown",
   "metadata": {},
   "source": [
    "# Beamline calculators"
   ]
  },
  {
   "cell_type": "code",
   "execution_count": null,
   "metadata": {
    "collapsed": true
   },
   "outputs": [],
   "source": [
    "#******************************\n",
    "def getGratingAngle(hv,lineDensity,cff):\n",
    "#******************************\n",
    "\t\"\"\"\n",
    "\t\tFor the PGM, calculate the grating pitch. Formula is copied blindly from Mat's spreadsheet,\n",
    "\t\tbecause I have complete faith in him.  \n",
    "\t\"\"\"    "
   ]
  },
  {
   "cell_type": "code",
   "execution_count": null,
   "metadata": {
    "collapsed": true
   },
   "outputs": [],
   "source": []
  },
  {
   "cell_type": "code",
   "execution_count": null,
   "metadata": {
    "collapsed": true
   },
   "outputs": [],
   "source": [
    "#*******************************************    \n",
    "def diodeResponse(hv):\n",
    "#******************************************* "
   ]
  },
  {
   "cell_type": "markdown",
   "metadata": {},
   "source": [
    "## beamLineResolution(input_hv,exitslit_um):"
   ]
  },
  {
   "cell_type": "code",
   "execution_count": 1,
   "metadata": {},
   "outputs": [
    {
     "ename": "NameError",
     "evalue": "name 'beamLineResolution' is not defined",
     "output_type": "error",
     "traceback": [
      "\u001b[0;31m---------------------------------------------------------------------------\u001b[0m",
      "\u001b[0;31mNameError\u001b[0m                                 Traceback (most recent call last)",
      "\u001b[0;32m<ipython-input-1-ac8ffbe51ea0>\u001b[0m in \u001b[0;36m<module>\u001b[0;34m()\u001b[0m\n\u001b[0;32m----> 1\u001b[0;31m \u001b[0mbeamLineResolution\u001b[0m\u001b[0;34m(\u001b[0m\u001b[0;36m50\u001b[0m\u001b[0;34m,\u001b[0m\u001b[0;36m100\u001b[0m\u001b[0;34m)\u001b[0m\u001b[0;34m\u001b[0m\u001b[0m\n\u001b[0m",
      "\u001b[0;31mNameError\u001b[0m: name 'beamLineResolution' is not defined"
     ]
    }
   ],
   "source": [
    "beamLineResolution(50,100)"
   ]
  },
  {
   "cell_type": "code",
   "execution_count": 11,
   "metadata": {},
   "outputs": [
    {
     "name": "stdout",
     "output_type": "stream",
     "text": [
      "5266.853932584269\n"
     ]
    }
   ],
   "source": [
    "hv=150\n",
    "print(hv*1000/beamLineResolution(hv,100))\n"
   ]
  },
  {
   "cell_type": "markdown",
   "metadata": {},
   "source": [
    "# SPECTRA calculations"
   ]
  },
  {
   "cell_type": "code",
   "execution_count": 4,
   "metadata": {},
   "outputs": [
    {
     "data": {
      "text/plain": [
       "0.008333333333333333"
      ]
     },
     "execution_count": 4,
     "metadata": {},
     "output_type": "execute_result"
    }
   ],
   "source": [
    "500*(1/60000)"
   ]
  },
  {
   "cell_type": "code",
   "execution_count": 5,
   "metadata": {},
   "outputs": [
    {
     "data": {
      "text/plain": [
       "0.01"
      ]
     },
     "execution_count": 5,
     "metadata": {},
     "output_type": "execute_result"
    }
   ],
   "source": [
    "(1/10000)*100"
   ]
  },
  {
   "cell_type": "code",
   "execution_count": null,
   "metadata": {
    "collapsed": true
   },
   "outputs": [],
   "source": [
    "(500/100)*0.1"
   ]
  },
  {
   "cell_type": "code",
   "execution_count": null,
   "metadata": {
    "collapsed": true
   },
   "outputs": [],
   "source": []
  }
 ],
 "metadata": {
  "kernelspec": {
   "display_name": "Python [default]",
   "language": "python",
   "name": "python3"
  },
  "language_info": {
   "codemirror_mode": {
    "name": "ipython",
    "version": 3
   },
   "file_extension": ".py",
   "mimetype": "text/x-python",
   "name": "python",
   "nbconvert_exporter": "python",
   "pygments_lexer": "ipython3",
   "version": "3.6.3"
  },
  "toc": {
   "base_numbering": 1,
   "nav_menu": {},
   "number_sections": true,
   "sideBar": true,
   "skip_h1_title": false,
   "title_cell": "Table of Contents",
   "title_sidebar": "Contents",
   "toc_cell": false,
   "toc_position": {
    "height": "calc(100% - 180px)",
    "left": "10px",
    "top": "150px",
    "width": "276px"
   },
   "toc_section_display": true,
   "toc_window_display": true
  }
 },
 "nbformat": 4,
 "nbformat_minor": 2
}

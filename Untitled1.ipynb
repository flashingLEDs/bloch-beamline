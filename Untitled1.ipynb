{
 "cells": [
  {
   "cell_type": "code",
   "execution_count": 5,
   "metadata": {
    "collapsed": true
   },
   "outputs": [],
   "source": [
    "x = 7"
   ]
  },
  {
   "cell_type": "code",
   "execution_count": 6,
   "metadata": {},
   "outputs": [
    {
     "name": "stdout",
     "output_type": "stream",
     "text": [
      "The value of x is 7\n"
     ]
    }
   ],
   "source": [
    "print(\"The value of x is\",x)"
   ]
  },
  {
   "cell_type": "code",
   "execution_count": 1,
   "metadata": {},
   "outputs": [
    {
     "name": "stdout",
     "output_type": "stream",
     "text": [
      "---- BLOCH beamline ----\n",
      "\tLast updated 02.12.2018 \n",
      "\n",
      "\tLatest change: M1 pitch lookup\n",
      "\n"
     ]
    }
   ],
   "source": [
    "from BLOCH_beamline import *"
   ]
  },
  {
   "cell_type": "code",
   "execution_count": 4,
   "metadata": {},
   "outputs": [
    {
     "data": {
      "text/plain": [
       "15.0"
      ]
     },
     "execution_count": 4,
     "metadata": {},
     "output_type": "execute_result"
    }
   ],
   "source": [
    "analyzerResolution(20,0.3)"
   ]
  },
  {
   "cell_type": "code",
   "execution_count": 3,
   "metadata": {},
   "outputs": [
    {
     "data": {
      "text/plain": [
       "249.06"
      ]
     },
     "execution_count": 3,
     "metadata": {},
     "output_type": "execute_result"
    }
   ],
   "source": [
    "beamLineResolution(250,400)"
   ]
  },
  {
   "cell_type": "code",
   "execution_count": 4,
   "metadata": {},
   "outputs": [
    {
     "ename": "NameError",
     "evalue": "name 'MatsCurve200mm' is not defined",
     "output_type": "error",
     "traceback": [
      "\u001b[0;31m---------------------------------------------------------------------------\u001b[0m",
      "\u001b[0;31mNameError\u001b[0m                                 Traceback (most recent call last)",
      "\u001b[0;32m<ipython-input-4-124a32fdf3a8>\u001b[0m in \u001b[0;36m<module>\u001b[0;34m()\u001b[0m\n\u001b[0;32m----> 1\u001b[0;31m \u001b[0mscaled\u001b[0m \u001b[0;34m=\u001b[0m \u001b[0;34m[\u001b[0m\u001b[0mn\u001b[0m\u001b[0;34m*\u001b[0m\u001b[0;34m(\u001b[0m\u001b[0;36m1000\u001b[0m\u001b[0;34m/\u001b[0m\u001b[0;36m200\u001b[0m\u001b[0;34m)\u001b[0m \u001b[0;32mfor\u001b[0m \u001b[0mn\u001b[0m \u001b[0;32min\u001b[0m \u001b[0mMatsCurve200mm\u001b[0m\u001b[0;34m]\u001b[0m\u001b[0;34m\u001b[0m\u001b[0m\n\u001b[0m\u001b[1;32m      2\u001b[0m \u001b[0mprint\u001b[0m\u001b[0;34m(\u001b[0m\u001b[0mscaled\u001b[0m\u001b[0;34m)\u001b[0m\u001b[0;34m\u001b[0m\u001b[0m\n",
      "\u001b[0;31mNameError\u001b[0m: name 'MatsCurve200mm' is not defined"
     ]
    }
   ],
   "source": [
    "scaled = [n*(1000/200) for n in MatsCurve200mm]\n",
    "print(scaled)"
   ]
  },
  {
   "cell_type": "markdown",
   "metadata": {},
   "source": [
    "This is a markdown cell"
   ]
  },
  {
   "cell_type": "code",
   "execution_count": 7,
   "metadata": {
    "collapsed": true
   },
   "outputs": [],
   "source": [
    "# This is a code cell"
   ]
  },
  {
   "cell_type": "code",
   "execution_count": 1,
   "metadata": {},
   "outputs": [
    {
     "name": "stdout",
     "output_type": "stream",
     "text": [
      "---- BLOCH beamline ----\n",
      "\tLast updated 27.11.2018 \n",
      "\n",
      "\tLatest change: better HDF5 handling\n",
      "\n"
     ]
    }
   ],
   "source": [
    "from BLOCH_beamline import *"
   ]
  },
  {
   "cell_type": "code",
   "execution_count": 17,
   "metadata": {
    "scrolled": true
   },
   "outputs": [
    {
     "name": "stdout",
     "output_type": "stream",
     "text": [
      "Data/undu_mono_scan4.h5 contains 99 scans:\n",
      "(I am stripping off the 'entry' part of their name)\n",
      "\n",
      "\n",
      "Scan index\t # datasets \t # points in first dataset\n",
      "----------------------------------------------------------\n",
      "1344\t\t24\t\t14\n",
      "1345\t\t24\t\t401\n",
      "1346\t\t24\t\t401\n",
      "1347\t\t24\t\t401\n",
      "1348\t\t24\t\t401\n",
      "1349\t\t24\t\t401\n",
      "1350\t\t24\t\t401\n",
      "1351\t\t24\t\t401\n",
      "1352\t\t24\t\t401\n",
      "1353\t\t24\t\t401\n",
      "1354\t\t24\t\t401\n",
      "1355\t\t24\t\t401\n",
      "1356\t\t24\t\t401\n",
      "1357\t\t24\t\t401\n",
      "1358\t\t24\t\t401\n",
      "1359\t\t24\t\t256\n",
      "1360\t\t24\t\t14\n",
      "1361\t\t24\t\t7\n",
      "1362\t\t24\t\t501\n",
      "1363\t\t24\t\t501\n",
      "1364\t\t24\t\t501\n",
      "1365\t\t24\t\t501\n",
      "1366\t\t24\t\t501\n",
      "1367\t\t24\t\t501\n",
      "1368\t\t24\t\t501\n",
      "1369\t\t24\t\t0\n",
      "1370\t\t24\t\t801\n",
      "1371\t\t24\t\t1981\n",
      "1372\t\t24\t\t74\n",
      "1373\t\t24\t\t39\n",
      "1374\t\t24\t\t821\n",
      "1375\t\t24\t\t401\n",
      "1376\t\t25\t\t0\n",
      "1377\t\t24\t\t6\n",
      "1378\t\t25\t\t0\n",
      "1379\t\t24\t\t6\n",
      "1380\t\t25\t\t0\n",
      "1381\t\t24\t\t4\n",
      "1382\t\t24\t\t2\n",
      "1383\t\t25\t\t12\n",
      "1384\t\t24\t\t81\n",
      "1385\t\t24\t\t81\n",
      "1386\t\t24\t\t81\n",
      "1387\t\t24\t\t81\n",
      "1388\t\t24\t\t81\n",
      "1389\t\t24\t\t81\n",
      "1390\t\t24\t\t81\n",
      "1391\t\t24\t\t81\n",
      "1392\t\t24\t\t81\n",
      "1393\t\t24\t\t81\n",
      "1394\t\t24\t\t81\n",
      "1395\t\t24\t\t81\n",
      "1396\t\t24\t\t2\n",
      "1397\t\t25\t\t12\n",
      "1398\t\t24\t\t121\n",
      "1399\t\t24\t\t121\n",
      "1400\t\t24\t\t121\n",
      "1401\t\t24\t\t121\n",
      "1402\t\t24\t\t121\n",
      "1403\t\t24\t\t121\n",
      "1404\t\t24\t\t121\n",
      "1405\t\t24\t\t121\n",
      "1406\t\t24\t\t121\n",
      "1407\t\t24\t\t121\n",
      "1408\t\t24\t\t121\n",
      "1409\t\t24\t\t121\n",
      "1410\t\t24\t\t2\n",
      "1411\t\t25\t\t12\n",
      "1412\t\t24\t\t141\n",
      "1413\t\t24\t\t141\n",
      "1414\t\t24\t\t141\n",
      "1415\t\t24\t\t141\n",
      "1416\t\t24\t\t141\n",
      "1417\t\t24\t\t141\n",
      "1418\t\t24\t\t141\n",
      "1419\t\t24\t\t141\n",
      "1420\t\t24\t\t141\n",
      "1421\t\t24\t\t141\n",
      "1422\t\t24\t\t141\n",
      "1423\t\t24\t\t141\n",
      "1424\t\t24\t\t2\n",
      "1425\t\t25\t\t6\n",
      "1426\t\t24\t\t111\n",
      "1427\t\t24\t\t111\n",
      "1428\t\t24\t\t111\n",
      "1429\t\t24\t\t111\n",
      "1430\t\t24\t\t111\n",
      "1431\t\t24\t\t111\n",
      "1432\t\t24\t\t106\n",
      "1433\t\t24\t\t111\n",
      "1434\t\t24\t\t56\n",
      "1435\t\t24\t\t43\n",
      "1436\t\t24\t\t56\n",
      "1437\t\t24\t\t27\n",
      "1438\t\t24\t\t56\n",
      "1439\t\t24\t\t0\n",
      "1440\t\t24\t\t13\n",
      "1441\t\t24\t\t0\n",
      "1442\t\t24\t\t0\n"
     ]
    }
   ],
   "source": [
    "HDF5info('Data/undu_mono_scan4.h5')"
   ]
  },
  {
   "cell_type": "code",
   "execution_count": 7,
   "metadata": {
    "collapsed": true
   },
   "outputs": [],
   "source": [
    "dataFolder = Path('Data/')\n",
    "#dataFolder = Path('Y:/motorscan/unduscan2/')"
   ]
  },
  {
   "cell_type": "code",
   "execution_count": 18,
   "metadata": {
    "collapsed": true
   },
   "outputs": [],
   "source": [
    "dataFile = dataFolder/'undu_mono_scan4.h5'"
   ]
  },
  {
   "cell_type": "code",
   "execution_count": 19,
   "metadata": {
    "scrolled": true
   },
   "outputs": [
    {
     "name": "stdout",
     "output_type": "stream",
     "text": [
      "Data/undu_mono_scan4.h5 contains 99 scans:\n",
      "(I am stripping off the 'entry' part of their name)\n",
      "\n",
      "\n",
      "Scan index\t # datasets \t # points in first dataset\n",
      "----------------------------------------------------------\n",
      "1344\t\t24\t\t14\n",
      "1345\t\t24\t\t401\n",
      "1346\t\t24\t\t401\n",
      "1347\t\t24\t\t401\n",
      "1348\t\t24\t\t401\n",
      "1349\t\t24\t\t401\n",
      "1350\t\t24\t\t401\n",
      "1351\t\t24\t\t401\n",
      "1352\t\t24\t\t401\n",
      "1353\t\t24\t\t401\n",
      "1354\t\t24\t\t401\n",
      "1355\t\t24\t\t401\n",
      "1356\t\t24\t\t401\n",
      "1357\t\t24\t\t401\n",
      "1358\t\t24\t\t401\n",
      "1359\t\t24\t\t256\n",
      "1360\t\t24\t\t14\n",
      "1361\t\t24\t\t7\n",
      "1362\t\t24\t\t501\n",
      "1363\t\t24\t\t501\n",
      "1364\t\t24\t\t501\n",
      "1365\t\t24\t\t501\n",
      "1366\t\t24\t\t501\n",
      "1367\t\t24\t\t501\n",
      "1368\t\t24\t\t501\n",
      "1369\t\t24\t\t0\n",
      "1370\t\t24\t\t801\n",
      "1371\t\t24\t\t1981\n",
      "1372\t\t24\t\t74\n",
      "1373\t\t24\t\t39\n",
      "1374\t\t24\t\t821\n",
      "1375\t\t24\t\t401\n",
      "1376\t\t25\t\t0\n",
      "1377\t\t24\t\t6\n",
      "1378\t\t25\t\t0\n",
      "1379\t\t24\t\t6\n",
      "1380\t\t25\t\t0\n",
      "1381\t\t24\t\t4\n",
      "1382\t\t24\t\t2\n",
      "1383\t\t25\t\t12\n",
      "1384\t\t24\t\t81\n",
      "1385\t\t24\t\t81\n",
      "1386\t\t24\t\t81\n",
      "1387\t\t24\t\t81\n",
      "1388\t\t24\t\t81\n",
      "1389\t\t24\t\t81\n",
      "1390\t\t24\t\t81\n",
      "1391\t\t24\t\t81\n",
      "1392\t\t24\t\t81\n",
      "1393\t\t24\t\t81\n",
      "1394\t\t24\t\t81\n",
      "1395\t\t24\t\t81\n",
      "1396\t\t24\t\t2\n",
      "1397\t\t25\t\t12\n",
      "1398\t\t24\t\t121\n",
      "1399\t\t24\t\t121\n",
      "1400\t\t24\t\t121\n",
      "1401\t\t24\t\t121\n",
      "1402\t\t24\t\t121\n",
      "1403\t\t24\t\t121\n",
      "1404\t\t24\t\t121\n",
      "1405\t\t24\t\t121\n",
      "1406\t\t24\t\t121\n",
      "1407\t\t24\t\t121\n",
      "1408\t\t24\t\t121\n",
      "1409\t\t24\t\t121\n",
      "1410\t\t24\t\t2\n",
      "1411\t\t25\t\t12\n",
      "1412\t\t24\t\t141\n",
      "1413\t\t24\t\t141\n",
      "1414\t\t24\t\t141\n",
      "1415\t\t24\t\t141\n",
      "1416\t\t24\t\t141\n",
      "1417\t\t24\t\t141\n",
      "1418\t\t24\t\t141\n",
      "1419\t\t24\t\t141\n",
      "1420\t\t24\t\t141\n",
      "1421\t\t24\t\t141\n",
      "1422\t\t24\t\t141\n",
      "1423\t\t24\t\t141\n",
      "1424\t\t24\t\t2\n",
      "1425\t\t25\t\t6\n",
      "1426\t\t24\t\t111\n",
      "1427\t\t24\t\t111\n",
      "1428\t\t24\t\t111\n",
      "1429\t\t24\t\t111\n",
      "1430\t\t24\t\t111\n",
      "1431\t\t24\t\t111\n",
      "1432\t\t24\t\t106\n",
      "1433\t\t24\t\t111\n",
      "1434\t\t24\t\t56\n",
      "1435\t\t24\t\t43\n",
      "1436\t\t24\t\t56\n",
      "1437\t\t24\t\t27\n",
      "1438\t\t24\t\t56\n",
      "1439\t\t24\t\t0\n",
      "1440\t\t24\t\t13\n",
      "1441\t\t24\t\t0\n",
      "1442\t\t24\t\t0\n"
     ]
    }
   ],
   "source": [
    "HDF5info(dataFile)"
   ]
  },
  {
   "cell_type": "code",
   "execution_count": 20,
   "metadata": {},
   "outputs": [
    {
     "name": "stdout",
     "output_type": "stream",
     "text": [
      "entry1371 contains 24 datasets:\n",
      "\n",
      "\t B110AO01DIATCO01temperature\n",
      "\t B110AO01DIATCO02temperature\n",
      "\t EPU_R1_110_GAPposition\n",
      "\t EPU_R1_110_PHASEposition\n",
      "\t Pt_No\n",
      "\t b110a_ctl_em01_ch01\n",
      "\t b110a_ctl_em01_ch02\n",
      "\t b110a_ctl_em01_ch03\n",
      "\t b110a_ctl_em01_ch04\n",
      "\t b110a_ctl_em01_timer\n",
      "\t b110a_ctl_em02_ch01\n",
      "\t b110a_ctl_em02_ch02\n",
      "\t b110a_ctl_em02_ch03\n",
      "\t b110a_ctl_em02_ch04\n",
      "\t b110a_ctl_em02_timer\n",
      "\t b110a_ctl_em03_ch01\n",
      "\t b110a_ctl_em03_ch02\n",
      "\t b110a_ctl_em03_ch03\n",
      "\t b110a_ctl_em03_ch04\n",
      "\t b110a_ctl_em03_timer\n",
      "\t dt\n",
      "\t m1_pitchposition\n",
      "\t mono_energy\n",
      "\t pre_scan_snapshot\n"
     ]
    }
   ],
   "source": [
    "HDF5scaninfo(dataFile,1371)"
   ]
  },
  {
   "cell_type": "code",
   "execution_count": 25,
   "metadata": {
    "collapsed": true
   },
   "outputs": [],
   "source": [
    "scan = HDF5loadscan(dataFile,1370)"
   ]
  },
  {
   "cell_type": "code",
   "execution_count": 27,
   "metadata": {},
   "outputs": [
    {
     "data": {
      "image/png": "[encoded data removed]",
      "text/plain": [
       "<Figure size 432x288 with 1 Axes>"
      ]
     },
     "metadata": {},
     "output_type": "display_data"
    }
   ],
   "source": [
    "plt.plot(scan['mono_energy'],scan['b110a_ctl_em02_ch03'])\n",
    "plt.show()"
   ]
  },
  {
   "cell_type": "code",
   "execution_count": 28,
   "metadata": {
    "collapsed": true
   },
   "outputs": [],
   "source": [
    "scan['diodeCurrent'] = [((ii*-1)/1000) for ii in scan['b110a_ctl_em02_ch03']]\n"
   ]
  },
  {
   "cell_type": "code",
   "execution_count": 29,
   "metadata": {},
   "outputs": [
    {
     "data": {
      "image/png": "[encoded data removed]",
      "text/plain": [
       "<Figure size 432x288 with 1 Axes>"
      ]
     },
     "metadata": {},
     "output_type": "display_data"
    }
   ],
   "source": [
    "plt.plot(scan['mono_energy'],scan['diodeCurrent'])\n",
    "plt.show()"
   ]
  },
  {
   "cell_type": "code",
   "execution_count": 30,
   "metadata": {
    "collapsed": true
   },
   "outputs": [],
   "source": [
    "scan['flux'] = [currentToFlux(I,hv) for I,hv in zip(scan['diodeCurrent'],scan['mono_energy'])]"
   ]
  },
  {
   "cell_type": "code",
   "execution_count": 33,
   "metadata": {},
   "outputs": [
    {
     "data": {
      "image/png": "[encoded data removed]",
      "text/plain": [
       "<Figure size 432x288 with 1 Axes>"
      ]
     },
     "metadata": {},
     "output_type": "display_data"
    }
   ],
   "source": [
    "plt.plot(scan['mono_energy'],scan['flux'])\n",
    "plt.xlabel('Photon energy')\n",
    "plt.yscale('log')\n",
    "plt.show()"
   ]
  },
  {
   "cell_type": "code",
   "execution_count": null,
   "metadata": {
    "collapsed": true
   },
   "outputs": [],
   "source": []
  }
 ],
 "metadata": {
  "kernelspec": {
   "display_name": "Python [default]",
   "language": "python",
   "name": "python3"
  },
  "language_info": {
   "codemirror_mode": {
    "name": "ipython",
    "version": 3
   },
   "file_extension": ".py",
   "mimetype": "text/x-python",
   "name": "python",
   "nbconvert_exporter": "python",
   "pygments_lexer": "ipython3",
   "version": "3.6.3"
  }
 },
 "nbformat": 4,
 "nbformat_minor": 2
}

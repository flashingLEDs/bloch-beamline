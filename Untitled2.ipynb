{
 "cells": [
  {
   "cell_type": "markdown",
   "metadata": {},
   "source": [
    "# Some other bullshit"
   ]
  },
  {
   "cell_type": "code",
   "execution_count": null,
   "metadata": {
    "collapsed": true
   },
   "outputs": [],
   "source": [
    "(18.12.02)_30mmgap_phase_test.h5"
   ]
  },
  {
   "cell_type": "code",
   "execution_count": null,
   "metadata": {
    "collapsed": true
   },
   "outputs": [],
   "source": [
    "Why are these scans so damn slow? MotorscanGUI estimates 30 seconds for a 60 pt scan from 10.6 to 12.4eV and it ends up taking 6 minutes.\n",
    "MotoscanGUI suggests that total deadtime is 91.7%, motion dead time 33.6%\n",
    "This suggests that slow mono motion is a bottleneck, but NOT the major one right now.\n",
    "\n",
    "To try:\n",
    "    1. Remove a bunch of write channels\n",
    "    2. Change save location to a local disk\n",
    "   \n",
    "Sweep over a higher energy - problem with slow mono at low energies? \n",
    "80.6-82.4eV takes 4mins 51, so 89.5% deadtime of which motion is 14.3%. Motion got \n",
    "\n",
    "Take out all but em2ch3:\n",
    "1min33, 67.4%/51.2%\n",
    "\n",
    "Scan a dummy motor:\n",
    "52s\n",
    "\n",
    "Turn off data compression:\n",
    "49s\n",
    "\n",
    "Add 3 more alba channels from the same alba:\n",
    "51s\n",
    "\n",
    "Add em1:\n",
    "1min25"
   ]
  }
 ],
 "metadata": {
  "kernelspec": {
   "display_name": "Python [default]",
   "language": "python",
   "name": "python3"
  },
  "language_info": {
   "codemirror_mode": {
    "name": "ipython",
    "version": 3
   },
   "file_extension": ".py",
   "mimetype": "text/x-python",
   "name": "python",
   "nbconvert_exporter": "python",
   "pygments_lexer": "ipython3",
   "version": "3.6.3"
  }
 },
 "nbformat": 4,
 "nbformat_minor": 2
}
